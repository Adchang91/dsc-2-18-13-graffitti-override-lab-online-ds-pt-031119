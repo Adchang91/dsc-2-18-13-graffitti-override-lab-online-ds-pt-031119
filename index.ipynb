{
 "cells": [
  {
   "cell_type": "markdown",
   "metadata": {},
   "source": [
    "# Graffiti Override - Lab"
   ]
  },
  {
   "cell_type": "markdown",
   "metadata": {},
   "source": [
    "## Introduction\n",
    "Imagine that you are walking down the street, and you notice that there's a\n",
    "mural that has been painted over with various graffiti tags. In reality,\n",
    "cleaning this up could be a challenging feat; however, in CSS, you have power\n",
    "to manipulate the DOM with just a line or two of code and to restore the mural\n",
    "to its original look! In this lab, we've created a virtual wall. Using only\n",
    "CSS, how can you remove the unsightly tags?"
   ]
  },
  {
   "cell_type": "markdown",
   "metadata": {},
   "source": [
    "## Objectives\n",
    "You will be able to:\n",
    "* Observe the browser developer tools\n",
    "* Use specificity to override existing styles"
   ]
  },
  {
   "cell_type": "markdown",
   "metadata": {},
   "source": [
    "## Obtain the Lab Repository and Launch the Project\n",
    "\n",
    "#### For Learn IDE Environment Users\n",
    "\n",
    "For users of the Learn in-browser platform, click the \"OPEN IDE\" button. You\n",
    "will be editing through the text editor.\n",
    "\n",
    "#### For Local Environment Users\n",
    "\n",
    "If you're acquainted with `git`, local environment users can follow these\n",
    "steps:\n",
    "\n",
    "1. Fork this repository from GitHub.\n",
    "2. Clone your GitHub fork locally.\n",
    "3. `cd` into the local repo you just cloned.\n",
    "4. Open index.html in your browser (Chrome suggested).\n",
    "\n",
    "## Observe the Browser Developer Tools\n",
    "\n",
    "Assuming you have opened the index file in Chrome, open the [dev tools][tools].\n",
    "You can quickly access Chrome dev tools with the keyboard shortcut\n",
    "`Cmd+Option+i` on a Mac, or by right/control-clicking anywhere in the window\n",
    "and selecting `inspect`.\n",
    "\n",
    "![Chrome Dev Tools](https://curriculum-content.s3.amazonaws.com/fewds-css/css-graffiti-override/inspect1.png \"Open the Chrome dev tools\")\n",
    "\n",
    "Inspect the elements of the graffiti wall in the dev tools by hovering\n",
    "over and clicking on nested elements. Take a close look at what's made available\n",
    "to you in the dev tools pane. You can see which stylesheets specific style\n",
    "declarations live in, as well as create new styles on the fly. Now, make note\n",
    "of the CSS styles used to add graffiti tags (as background images) to the wall.\n",
    "\n",
    "![Chrome Dev Tools](https://curriculum-content.s3.amazonaws.com/fewds-css/css-graffiti-override/inspect2.png \"Inspect the styles on each element\")\n",
    "\n",
    "## Use Specificity to Override Existing Styles\n",
    "\n",
    "In the file `css/cleanup.css`, write selectors that have more specificity\n",
    "(authority) than those that are showing the graffiti tags. You can test out\n",
    "writing classes in dev tools by clicking the `+` in the top right-hand corner\n",
    "of the pane. You can also click the `sources` tab and select `css/cleanup.css`\n",
    "in the dev tools pane. This allows you to edit the CSS file directly. It\n",
    "*won't* save your edits, but it will give a live update of changes, so that\n",
    "it's easier to manipulate the DOM without refreshing the page. From there, you\n",
    "can copy and paste your working changes into the file in an IDE.\n",
    "\n",
    "To remove the tags, use the CSS declaration `display:none;`. It will change the\n",
    "elements' previous display property value from `display: block` to `display:\n",
    "none`, which will hide that graffiti.\n",
    "\n",
    "For example, for \"tag-1\" the developer tools reveal that the style applying the\n",
    "graffiti here is:\n",
    "\n",
    "```\n",
    ".tag-1 {\n",
    "  background: url(../images/tag-1.png) no-repeat;\n",
    "  z-index: 7;\n",
    "  display: block;\n",
    "}\n",
    "```\n",
    "\n",
    "You'll need to override this by setting its display to `display: none;`\n",
    "instead. We can do this by writing a selector statement that is more specific\n",
    "such as:\n",
    "\n",
    "```\n",
    "#wall .tag-1 {\n",
    "  display: none;\n",
    "}\n",
    "```\n",
    "\n",
    "\n",
    "This selects elements with a class of \"tag-1\" that happen to also be inside an\n",
    "element with an id of \"wall\". This is more specific, and therefore will\n",
    "override the previous statement and hide the graffiti. For more info on how\n",
    "specificity in CSS works take a look at: [Smashing Magazines What you Need to\n",
    "Know About CSS Specificity][smash].  You can also take advantage of a\n",
    "[Specificity Calculator][spec-calc] to assist with finding and understanding\n",
    "options for overriding styles.\n",
    "\n",
    "**Do not use the CSS `!important` value**! It is considered a bad practice and\n",
    "should be used sparingly, in very specific edge-cases. For this lab, avoid\n",
    "adding inline or embedded CSS to the index.html file, or any additional class\n",
    "or id attributes to the index.html file either.  This will make it more\n",
    "challenging as you will have to write CSS that is more specific based on the\n",
    "existing markup."
   ]
  },
  {
   "cell_type": "markdown",
   "metadata": {},
   "source": [
    "## Additional Resources\n",
    "\n",
    " * [Smashing Magazine - CSS Specificity](http://www.smashingmagazine.com/2007/07/27/css-specificity-things-you-should-know/)\n",
    " * [CSS Tricks - CSS Specificity](http://css-tricks.com/specifics-on-css-specificity/)\n",
    " * [Code School - DiscoverDevTools](http://discover-devtools.codeschool.com/)\n",
    " * [Specificity Calculator](https://specificity.keegan.st/)\n",
    "\n",
    "<p data-visibility='hidden'>View <a href='https://learn.co/lessons/css-graffiti-override' title='CSS Graffiti Override'>CSS Graffiti Override</a> on Learn.co and start learning to code for free.</p>\n",
    "\n",
    "[tools]: http://discover-devtools.codeschool.com/\n",
    "[smash]: http://www.smashingmagazine.com/2007/07/27/css-specificity-things-you-should-know/\n",
    "[spec-calc]: https://specificity.keegan.st/\n"
   ]
  },
  {
   "cell_type": "markdown",
   "metadata": {},
   "source": [
    "## Summary\n",
    "With the dev tools and resources on CSS specificity rules, work your way\n",
    "through all seven graffiti pictures until the wall is fully clean. In your\n",
    "experimentation, you will find that there are many ways to manipulate and\n",
    "override the DOM. This will become a common practice as you build out more\n",
    "complex websites or work with cloud-hosted third party resources where you may\n",
    "not have direct access to the stylesheet."
   ]
  }
 ],
 "metadata": {
  "kernelspec": {
   "display_name": "Python 3",
   "language": "python",
   "name": "python3"
  },
  "language_info": {
   "codemirror_mode": {
    "name": "ipython",
    "version": 3
   },
   "file_extension": ".py",
   "mimetype": "text/x-python",
   "name": "python",
   "nbconvert_exporter": "python",
   "pygments_lexer": "ipython3",
   "version": "3.6.5"
  }
 },
 "nbformat": 4,
 "nbformat_minor": 2
}
